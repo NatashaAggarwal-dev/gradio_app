{
 "cells": [
  {
   "cell_type": "code",
   "execution_count": 1,
   "id": "3a1b66a9-1065-422f-9f52-0b2030a88e5a",
   "metadata": {},
   "outputs": [],
   "source": [
    "from openai import OpenAI\n",
    "import gradio as gr"
   ]
  },
  {
   "cell_type": "code",
   "execution_count": 2,
   "id": "69776a40-6bb9-4f1c-9efb-407c35a786c5",
   "metadata": {},
   "outputs": [],
   "source": [
    "mymodel = OpenAI(\n",
    "    api_key=\"USE_YOUR_KEY\", \n",
    "    base_url=\"https://generativelanguage.googleapis.com/v1beta/openai/\"\n",
    ")"
   ]
  },
  {
   "cell_type": "code",
   "execution_count": 3,
   "id": "bea251e0-a608-4e78-bd26-9546efc8ae1c",
   "metadata": {},
   "outputs": [
    {
     "name": "stdout",
     "output_type": "stream",
     "text": [
      "* Running on local URL:  http://127.0.0.1:7861\n",
      "* Running on public URL: https://7aa788cb3c122f1a79.gradio.live\n",
      "\n",
      "This share link expires in 1 week. For free permanent hosting and GPU upgrades, run `gradio deploy` from the terminal in the working directory to deploy to Hugging Face Spaces (https://huggingface.co/spaces)\n"
     ]
    },
    {
     "data": {
      "text/html": [
       "<div><iframe src=\"https://7aa788cb3c122f1a79.gradio.live\" width=\"100%\" height=\"500\" allow=\"autoplay; camera; microphone; clipboard-read; clipboard-write;\" frameborder=\"0\" allowfullscreen></iframe></div>"
      ],
      "text/plain": [
       "<IPython.core.display.HTML object>"
      ]
     },
     "metadata": {},
     "output_type": "display_data"
    },
    {
     "data": {
      "text/plain": []
     },
     "execution_count": 3,
     "metadata": {},
     "output_type": "execute_result"
    }
   ],
   "source": [
    "# Simulated transport price comparison\n",
    "def compare_transport(from_location, to_location):\n",
    "    prices = {\n",
    "        \"Uber\": \"₹120\",\n",
    "        \"Ola\": \"₹115\",\n",
    "        \"Rapido\": \"₹90\",\n",
    "        \"InDrive\": \"₹100\"\n",
    "    }\n",
    "\n",
    "    result = f\"🚖 *Transport Price Comparison*\\n\"\n",
    "    result += f\"From: *{from_location}* → To: *{to_location}*\\n\\n\"\n",
    "    for app, price in prices.items():\n",
    "        result += f\"- {app}: {price}\\n\"\n",
    "    return result\n",
    "\n",
    "# Simulated food item price comparison\n",
    "def compare_food(item_name):\n",
    "    food_prices = {\n",
    "        \"Swiggy\": f\"₹200 for {item_name}\",\n",
    "        \"Zomato\": f\"₹210 for {item_name}\",\n",
    "        \"Zepto\": f\"₹190 for {item_name}\",\n",
    "        \"Blinkit\": f\"₹180 for {item_name}\",\n",
    "        \"Instamart\": f\"₹185 for {item_name}\"\n",
    "    }\n",
    "\n",
    "    result = f\"🍔 *Food Delivery Price Comparison for '{item_name}'*\\n\\n\"\n",
    "    for app, price in food_prices.items():\n",
    "        result += f\"- {app}: {price}\\n\"\n",
    "    return result\n",
    "\n",
    "# Transport UI block\n",
    "transport_ui = gr.Interface(\n",
    "    fn=compare_transport,\n",
    "    inputs=[\n",
    "        gr.Textbox(label=\"From Location\", placeholder=\"e.g. Jaipur Railway Station\"),\n",
    "        gr.Textbox(label=\"To Location\", placeholder=\"e.g. World Trade Park\")\n",
    "    ],\n",
    "    outputs=gr.Textbox(label=\"Transport Prices\"),\n",
    "    title=\"🚖 Transport Price Comparator\"\n",
    ")\n",
    "\n",
    "# Food UI block\n",
    "food_ui = gr.Interface(\n",
    "    fn=compare_food,\n",
    "    inputs=gr.Textbox(label=\"Enter Food Item\", placeholder=\"e.g. Paneer, Pizza\"),\n",
    "    outputs=gr.Textbox(label=\"Food Delivery Prices\"),\n",
    "    title=\"🍔 Food Price Comparator\"\n",
    ")\n",
    "\n",
    "# Combine both into one Gradio Tab interface\n",
    "gr.TabbedInterface(\n",
    "    [transport_ui, food_ui],\n",
    "    tab_names=[\"Transport\", \"Food\"]\n",
    ").launch(share=True)"
   ]
  },
  {
   "cell_type": "code",
   "execution_count": null,
   "id": "8d944f2b-8eb9-4d80-acd8-4692ad4d676e",
   "metadata": {},
   "outputs": [],
   "source": []
  }
 ],
 "metadata": {
  "kernelspec": {
   "display_name": "Python 3 (ipykernel)",
   "language": "python",
   "name": "python3"
  },
  "language_info": {
   "codemirror_mode": {
    "name": "ipython",
    "version": 3
   },
   "file_extension": ".py",
   "mimetype": "text/x-python",
   "name": "python",
   "nbconvert_exporter": "python",
   "pygments_lexer": "ipython3",
   "version": "3.12.7"
  }
 },
 "nbformat": 4,
 "nbformat_minor": 5
}
